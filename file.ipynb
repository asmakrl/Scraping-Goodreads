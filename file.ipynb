{
 "cells": [
  {
   "cell_type": "code",
   "execution_count": null,
   "metadata": {},
   "outputs": [],
   "source": [
    "#the first thing we need to do is to ask the user their height & weight\n",
    "height = float(input(\"enter your height in cm: \"))\n",
    "weight = float(input(\"enter your weight in kg: \"))\n",
    "\n",
    "#next we have to calculate the BMI, we devide the height by 100 so it can be inmeters to ease up calculation\n",
    "BMI = weight /(height/100)**2\n",
    "\n",
    "#now we print the BMI\n",
    "print(f\"your BMI is: {BMI}\")\n",
    "\n",
    "#Now we have to print a statement to state the current health of the user based on their BMI\n",
    "if BMI <= 18.4 :\n",
    "    print(\"You are underweight.\")\n",
    "elif BMI <= 24.9 :\n",
    "    print (\"You have a normal weight.\")\n",
    "elif BMI <= 29.9 :\n",
    "    print (\"You are overweight.\")\n",
    "elif BMI <= 34.9 :\n",
    "    print(\"You are severly overweight.\")\n",
    "elif BMI <= 39.9 :\n",
    "    print(\"You are obese\")\n",
    "else :\n",
    "    print(\"You are severly obese\")"
   ]
  }
 ],
 "metadata": {
  "interpreter": {
   "hash": "e8de759e84680f9523b6a81159993db358ce7bc6e13bd7806047d22443bdfdec"
  },
  "kernelspec": {
   "display_name": "Python 3.10.4 64-bit (windows store)",
   "language": "python",
   "name": "python3"
  },
  "language_info": {
   "name": "python",
   "version": "3.10.4"
  },
  "orig_nbformat": 4
 },
 "nbformat": 4,
 "nbformat_minor": 2
}
